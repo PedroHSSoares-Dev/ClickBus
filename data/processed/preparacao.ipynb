{
 "cells": [
  {
   "cell_type": "code",
   "execution_count": 1,
   "id": "b7b4041e",
   "metadata": {},
   "outputs": [],
   "source": [
    "import os\n",
    "from dotenv import load_dotenv\n",
    "import pandas as pd\n"
   ]
  },
  {
   "cell_type": "code",
   "execution_count": 2,
   "id": "1b244ba5",
   "metadata": {},
   "outputs": [],
   "source": [
    "load_dotenv()\n",
    "csv_path = os.getenv('DATA_RAW_PATH')"
   ]
  },
  {
   "cell_type": "code",
   "execution_count": null,
   "id": "064debda",
   "metadata": {},
   "outputs": [],
   "source": [
    "df = pd.read_csv(csv_path)\n",
    "df"
   ]
  },
  {
   "cell_type": "code",
   "execution_count": 4,
   "id": "734029f2",
   "metadata": {},
   "outputs": [],
   "source": [
    "df['date_purchase'] = pd.to_datetime(df['date_purchase'])\n"
   ]
  },
  {
   "cell_type": "code",
   "execution_count": 5,
   "id": "dcf93d61",
   "metadata": {},
   "outputs": [],
   "source": [
    "df['time_purchase'] = pd.to_datetime(df['time_purchase'], format='%H:%M:%S', errors='coerce').dt.time\n"
   ]
  },
  {
   "cell_type": "code",
   "execution_count": 6,
   "id": "764d3c2e",
   "metadata": {},
   "outputs": [
    {
     "name": "stdout",
     "output_type": "stream",
     "text": [
      "→ Existem 7 valores negativos em gmv_success\n",
      "→ Existem 0 valores nulos em gmv_success\n"
     ]
    }
   ],
   "source": [
    "negativos = df[df['gmv_success'] < 0]\n",
    "print(f\"→ Existem {len(negativos)} valores negativos em gmv_success\")\n",
    "nulos = df[df['gmv_success'].isna()]\n",
    "print(f\"→ Existem {len(nulos)} valores nulos em gmv_success\")\n"
   ]
  },
  {
   "cell_type": "code",
   "execution_count": 7,
   "id": "659c0dfc",
   "metadata": {},
   "outputs": [],
   "source": [
    "df = df[df['gmv_success'] >= 0]"
   ]
  },
  {
   "cell_type": "code",
   "execution_count": 8,
   "id": "9983c981",
   "metadata": {},
   "outputs": [
    {
     "name": "stderr",
     "output_type": "stream",
     "text": [
      "C:\\Users\\pedro\\AppData\\Local\\Temp\\ipykernel_41056\\3592278818.py:10: SettingWithCopyWarning: \n",
      "A value is trying to be set on a copy of a slice from a DataFrame.\n",
      "Try using .loc[row_indexer,col_indexer] = value instead\n",
      "\n",
      "See the caveats in the documentation: https://pandas.pydata.org/pandas-docs/stable/user_guide/indexing.html#returning-a-view-versus-a-copy\n",
      "  df.loc[df[coluna] != '0', coluna] = df.loc[df[coluna] != '0', coluna].map(mapa)\n",
      "C:\\Users\\pedro\\AppData\\Local\\Temp\\ipykernel_41056\\3592278818.py:10: SettingWithCopyWarning: \n",
      "A value is trying to be set on a copy of a slice from a DataFrame.\n",
      "Try using .loc[row_indexer,col_indexer] = value instead\n",
      "\n",
      "See the caveats in the documentation: https://pandas.pydata.org/pandas-docs/stable/user_guide/indexing.html#returning-a-view-versus-a-copy\n",
      "  df.loc[df[coluna] != '0', coluna] = df.loc[df[coluna] != '0', coluna].map(mapa)\n"
     ]
    }
   ],
   "source": [
    "colunas = ['place_origin_departure', 'place_origin_return', 'place_destination_departure', 'place_destination_return']\n",
    "for coluna in colunas:\n",
    "    # Pega só os valores únicos diferentes de zero\n",
    "    rodoviarias_unicas = df.loc[df[coluna] != '0', coluna].unique()\n",
    "    \n",
    "    # Cria o mapa só para esses valores\n",
    "    mapa = {hash_: f'Rodoviária {i+1}' for i, hash_ in enumerate(rodoviarias_unicas)}\n",
    "    \n",
    "    # Aplica o mapeamento apenas onde for diferente de zero\n",
    "    df.loc[df[coluna] != '0', coluna] = df.loc[df[coluna] != '0', coluna].map(mapa)\n"
   ]
  },
  {
   "cell_type": "code",
   "execution_count": 9,
   "id": "ae0ddbc1",
   "metadata": {},
   "outputs": [
    {
     "name": "stderr",
     "output_type": "stream",
     "text": [
      "C:\\Users\\pedro\\AppData\\Local\\Temp\\ipykernel_41056\\960107525.py:6: SettingWithCopyWarning: \n",
      "A value is trying to be set on a copy of a slice from a DataFrame.\n",
      "Try using .loc[row_indexer,col_indexer] = value instead\n",
      "\n",
      "See the caveats in the documentation: https://pandas.pydata.org/pandas-docs/stable/user_guide/indexing.html#returning-a-view-versus-a-copy\n",
      "  df['fk_contact'] = df['fk_contact'].map(mapa_clientes)\n"
     ]
    }
   ],
   "source": [
    "clientes = df['fk_contact'].unique()\n",
    "mapa_clientes = {hash_: f'Cliente {i+1}'\n",
    "                    for i, hash_ in enumerate(clientes)}\n",
    "mapa_clientes\n",
    "\n",
    "df['fk_contact'] = df['fk_contact'].map(mapa_clientes)"
   ]
  },
  {
   "cell_type": "code",
   "execution_count": 10,
   "id": "06ee6c44",
   "metadata": {},
   "outputs": [],
   "source": [
    "df.to_parquet('transacoes_preparado.parquet')"
   ]
  },
  {
   "cell_type": "code",
   "execution_count": null,
   "id": "c26c1765",
   "metadata": {},
   "outputs": [],
   "source": []
  }
 ],
 "metadata": {
  "kernelspec": {
   "display_name": "Python 3",
   "language": "python",
   "name": "python3"
  },
  "language_info": {
   "codemirror_mode": {
    "name": "ipython",
    "version": 3
   },
   "file_extension": ".py",
   "mimetype": "text/x-python",
   "name": "python",
   "nbconvert_exporter": "python",
   "pygments_lexer": "ipython3",
   "version": "3.11.9"
  }
 },
 "nbformat": 4,
 "nbformat_minor": 5
}
